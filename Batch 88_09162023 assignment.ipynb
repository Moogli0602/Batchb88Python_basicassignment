{
 "cells": [
  {
   "cell_type": "code",
   "execution_count": 2,
   "id": "f3f6abe3",
   "metadata": {},
   "outputs": [
    {
     "name": "stdout",
     "output_type": "stream",
     "text": [
      "I love learning to use Python.\n"
     ]
    }
   ],
   "source": [
    "msg = \"I love learning to use Python.\"\n",
    "print(msg)\n"
   ]
  },
  {
   "cell_type": "code",
   "execution_count": 3,
   "id": "8963f4c1",
   "metadata": {},
   "outputs": [
    {
     "name": "stdout",
     "output_type": "stream",
     "text": [
      "I love learning to use Python.\n",
      "It's really satisfying!\n"
     ]
    }
   ],
   "source": [
    "msg = \"I love learning to use Python.\"\n",
    "print(msg)\n",
    "\n",
    "msg = \"It's really satisfying!\"\n",
    "print(msg)"
   ]
  },
  {
   "cell_type": "code",
   "execution_count": 12,
   "id": "1152372a",
   "metadata": {},
   "outputs": [
    {
     "name": "stdout",
     "output_type": "stream",
     "text": [
      "Hello Gokul would you like to learn some Python today?\n"
     ]
    }
   ],
   "source": [
    "#Store a person’s name in a variable and print a message to that person. \n",
    "#Your message should be simple, such as, “Hello Eric, would you like to \n",
    "#learn some Python today?”\n",
    "Name = \"Gokul\"\n",
    "print (\"Hello\" +\" \"+ Name +\" \"+ \"would you like to learn some Python today?\")"
   ]
  },
  {
   "cell_type": "code",
   "execution_count": 11,
   "id": "12194f7d",
   "metadata": {},
   "outputs": [
    {
     "name": "stdout",
     "output_type": "stream",
     "text": [
      "Albert Einstein once said, \"A person who never made a mistake\n",
      "never tried anything new.\"\n"
     ]
    }
   ],
   "source": [
    "#Find a quote from a famous person you admire. Print the quote and the \n",
    "#name of its author. Your output should look something like the following, \n",
    "#including the quotation marks: Albert Einstein once said, “A person who \n",
    "#never made a mistake never tried anything new.”\n",
    "print('Albert Einstein once said, \"A person who never made a mistake')\n",
    "print('never tried anything new.\"')"
   ]
  },
  {
   "cell_type": "code",
   "execution_count": 17,
   "id": "22ba40d7",
   "metadata": {},
   "outputs": [
    {
     "name": "stdout",
     "output_type": "stream",
     "text": [
      "Albert Einstein once said, 'A person who never made a mistake never tried anything new.'\n"
     ]
    }
   ],
   "source": [
    "#Repeat Exercise 4, but this time store the famous person’s name in a \n",
    "#variable called famous_person. Then compose your message and store it in \n",
    "#a new variable called message. Print your message.\n",
    "famous_person = \"Albert Einstein\"\n",
    "message = \"'A person who never made a mistake never tried anything new.'\"\n",
    "print(\"{0} once said, {1}\".format(famous_person, message))"
   ]
  },
  {
   "cell_type": "code",
   "execution_count": 18,
   "id": "9095de2c",
   "metadata": {},
   "outputs": [
    {
     "name": "stdout",
     "output_type": "stream",
     "text": [
      "8\n",
      "8\n",
      "8\n",
      "8\n"
     ]
    }
   ],
   "source": [
    "#Write addition, subtraction, multiplication, and division operations that \n",
    "#each result in the number 8. Be sure to enclose your operations in print \n",
    "#statements to see the results. You should create four lines that look like \n",
    "#this: print (5 + 3)\n",
    "print(5+3)\n",
    "print(11-3)\n",
    "print(4*2)\n",
    "print(16 // 2)"
   ]
  },
  {
   "cell_type": "code",
   "execution_count": 21,
   "id": "cc6ebedb",
   "metadata": {},
   "outputs": [
    {
     "name": "stdout",
     "output_type": "stream",
     "text": [
      "My favorite_number is 6\n"
     ]
    }
   ],
   "source": [
    "#Store your favourite number in a variable. Then, using that variable, \n",
    "#create a message that reveals your favourite number. Print that message.\n",
    "favorite_number = 6\n",
    "print(\"My favorite_number is {}\".format(favorite_number))"
   ]
  },
  {
   "cell_type": "code",
   "execution_count": 24,
   "id": "a70aed97",
   "metadata": {},
   "outputs": [
    {
     "name": "stdout",
     "output_type": "stream",
     "text": [
      "I love learning to use Python.\n",
      "Hello Gokul would you like to learn some Python today?\n"
     ]
    }
   ],
   "source": [
    "#Gokul 9222023\n",
    "#Choose two of the programs you’ve written and add at least one comment \n",
    "#to each. If you don’t have anything specific to write because your programs \n",
    "#are too simple at this point, just add your name and the current date at the \n",
    "#top of each program file. Then write one sentence describing what the \n",
    "#program does.\n",
    "#Simple message adding to the variable\n",
    "msg = \"I love learning to use Python.\"\n",
    "print(msg)\n",
    "#Store a person’s name in a variable and print a message to that person \n",
    "Name = \"Gokul\"\n",
    "print (\"Hello\" +\" \"+ Name +\" \"+ \"would you like to learn some Python today?\")"
   ]
  },
  {
   "cell_type": "code",
   "execution_count": 25,
   "id": "a1e8e494",
   "metadata": {},
   "outputs": [
    {
     "name": "stdout",
     "output_type": "stream",
     "text": [
      "Gokul\n",
      "Indhumathi\n",
      "Sai Ram\n"
     ]
    }
   ],
   "source": [
    "# Store the names of a few of your friends in a list called names. Print each \n",
    "names = ['Gokul', 'Indhumathi', 'Sai Ram']\n",
    "\n",
    "print(names[0])\n",
    "print(names[1])\n",
    "print(names[2])"
   ]
  },
  {
   "cell_type": "code",
   "execution_count": 28,
   "id": "61f789b3",
   "metadata": {},
   "outputs": [
    {
     "name": "stdout",
     "output_type": "stream",
     "text": [
      "Hello, Gokul How are you!\n",
      "Hello, Indhumathi How are you!\n",
      "Hello, Sai Ram How are you!\n"
     ]
    }
   ],
   "source": [
    "#Start with the list you used in above, but instead of just printing each \n",
    "#person’s name, print a message to them. The text of each message should \n",
    "#be the same, but each message should be personalized with the person’s\n",
    "#name.\n",
    "names = ['Gokul', 'Indhumathi', 'Sai Ram']\n",
    "\n",
    "msg = \"Hello, \" + names[0].title() +\" \"+ \"How are you\"\"!\"\n",
    "print(msg)\n",
    "\n",
    "msg = \"Hello, \" + names[1].title() + \" \"+ \"How are you\"\"!\"\n",
    "print(msg)\n",
    "\n",
    "msg = \"Hello, \" + names[2].title() + \" \"+ \"How are you\"\"!\"\n",
    "print(msg)"
   ]
  },
  {
   "cell_type": "code",
   "execution_count": 30,
   "id": "e5edc1de",
   "metadata": {},
   "outputs": [
    {
     "name": "stdout",
     "output_type": "stream",
     "text": [
      "Gokul\n",
      "Indhumathi\n",
      "Sai Ram\n",
      "Hello, Gokul! How are you today?\n",
      "Hello, Indhumathi! How are you today?\n",
      "Hello, Sai Ram! How are you today?\n",
      "I would like to own a BMW.\n",
      "I would like to own a Mercedes.\n",
      "I would like to own a Audi.\n"
     ]
    }
   ],
   "source": [
    "#Think of your favourite mode of transportation, such as a motorcycle or a \n",
    "#car, and make a list that stores several examples. Use your list to print a \n",
    "#series of statements about these items, such as “I would like to own a \n",
    "#Honda motorcycle.”\n",
    "names = [\"Gokul\", \"Indhumathi\", \"Sai Ram\"]\n",
    "\n",
    "for name in names:\n",
    "    print(name)\n",
    "\n",
    "for name in names:\n",
    "    print(f'Hello, {name}! How are you today?')\n",
    "\n",
    "cars = [\"BMW\", \"Mercedes\", \"Audi\"]\n",
    "\n",
    "for car in cars:\n",
    "    print(f\"I would like to own a {car}.\")\n"
   ]
  },
  {
   "cell_type": "code",
   "execution_count": null,
   "id": "6c1504e0",
   "metadata": {},
   "outputs": [],
   "source": []
  }
 ],
 "metadata": {
  "kernelspec": {
   "display_name": "Python 3 (ipykernel)",
   "language": "python",
   "name": "python3"
  },
  "language_info": {
   "codemirror_mode": {
    "name": "ipython",
    "version": 3
   },
   "file_extension": ".py",
   "mimetype": "text/x-python",
   "name": "python",
   "nbconvert_exporter": "python",
   "pygments_lexer": "ipython3",
   "version": "3.11.4"
  }
 },
 "nbformat": 4,
 "nbformat_minor": 5
}
